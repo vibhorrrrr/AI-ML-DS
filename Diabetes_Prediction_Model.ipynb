{
  "metadata": {
    "kernelspec": {
      "language": "python",
      "display_name": "Python 3",
      "name": "python3"
    },
    "language_info": {
      "name": "python",
      "version": "3.10.12",
      "mimetype": "text/x-python",
      "codemirror_mode": {
        "name": "ipython",
        "version": 3
      },
      "pygments_lexer": "ipython3",
      "nbconvert_exporter": "python",
      "file_extension": ".py"
    },
    "kaggle": {
      "accelerator": "none",
      "dataSources": [
        {
          "sourceId": 67084,
          "databundleVersionId": 7452899,
          "sourceType": "competition"
        }
      ],
      "dockerImageVersionId": 30635,
      "isInternetEnabled": true,
      "language": "python",
      "sourceType": "notebook",
      "isGpuEnabled": false
    },
    "colab": {
      "name": "Diabetes Prediction Model",
      "provenance": [],
      "include_colab_link": true
    }
  },
  "nbformat_minor": 0,
  "nbformat": 4,
  "cells": [
    {
      "cell_type": "markdown",
      "metadata": {
        "id": "view-in-github",
        "colab_type": "text"
      },
      "source": [
        "<a href=\"https://colab.research.google.com/github/vibhorrrrr/AI-ML-DS/blob/main/Diabetes_Prediction_Model.ipynb\" target=\"_parent\"><img src=\"https://colab.research.google.com/assets/colab-badge.svg\" alt=\"Open In Colab\"/></a>"
      ]
    },
    {
      "source": [
        "\n",
        "# IMPORTANT: RUN THIS CELL IN ORDER TO IMPORT YOUR KAGGLE DATA SOURCES\n",
        "# TO THE CORRECT LOCATION (/kaggle/input) IN YOUR NOTEBOOK,\n",
        "# THEN FEEL FREE TO DELETE THIS CELL.\n",
        "# NOTE: THIS NOTEBOOK ENVIRONMENT DIFFERS FROM KAGGLE'S PYTHON\n",
        "# ENVIRONMENT SO THERE MAY BE MISSING LIBRARIES USED BY YOUR\n",
        "# NOTEBOOK.\n",
        "\n",
        "import os\n",
        "import sys\n",
        "from tempfile import NamedTemporaryFile\n",
        "from urllib.request import urlopen\n",
        "from urllib.parse import unquote, urlparse\n",
        "from urllib.error import HTTPError\n",
        "from zipfile import ZipFile\n",
        "import tarfile\n",
        "import shutil\n",
        "\n",
        "CHUNK_SIZE = 40960\n",
        "DATA_SOURCE_MAPPING = 'diabetes-prediction-from-medicalrecords:https%3A%2F%2Fstorage.googleapis.com%2Fkaggle-competitions-data%2Fkaggle-v2%2F67084%2F7452899%2Fbundle%2Farchive.zip%3FX-Goog-Algorithm%3DGOOG4-RSA-SHA256%26X-Goog-Credential%3Dgcp-kaggle-com%2540kaggle-161607.iam.gserviceaccount.com%252F20240129%252Fauto%252Fstorage%252Fgoog4_request%26X-Goog-Date%3D20240129T213501Z%26X-Goog-Expires%3D259200%26X-Goog-SignedHeaders%3Dhost%26X-Goog-Signature%3D8b76c649640a2762fdbb2c3be9ac7cb70aebd3ca96ace2002125d3336eb9e737af0b15e437b65cfb37317f16b222c5b2f77504a04483d3fd45ca7edede9c661e17a3cdb91a076cd1c4349e8fc384749c9677284a35da107cc2325fdfd7f7f028efa0d353387a66845dffd7031a66464fb1df6cb525cab107096e73758cac349d18a72f68e99c372ae86c6b333153005d5896bf604415f8a36f34d61500469146462cb7fd6ea8cfa186ddd46ec08c3a5478e1a4014c0ad9126e230e79c16a321860f04d93753271dfb8dec61a17e89bf92b8ee4e6281b742416165eda7a168b93f87a73cb9b81e059fa3c73c9da8cb6744822e03ebab0ff421a38a9e82611fcc1'\n",
        "\n",
        "KAGGLE_INPUT_PATH='/kaggle/input'\n",
        "KAGGLE_WORKING_PATH='/kaggle/working'\n",
        "KAGGLE_SYMLINK='kaggle'\n",
        "\n",
        "!umount /kaggle/input/ 2> /dev/null\n",
        "shutil.rmtree('/kaggle/input', ignore_errors=True)\n",
        "os.makedirs(KAGGLE_INPUT_PATH, 0o777, exist_ok=True)\n",
        "os.makedirs(KAGGLE_WORKING_PATH, 0o777, exist_ok=True)\n",
        "\n",
        "try:\n",
        "  os.symlink(KAGGLE_INPUT_PATH, os.path.join(\"..\", 'input'), target_is_directory=True)\n",
        "except FileExistsError:\n",
        "  pass\n",
        "try:\n",
        "  os.symlink(KAGGLE_WORKING_PATH, os.path.join(\"..\", 'working'), target_is_directory=True)\n",
        "except FileExistsError:\n",
        "  pass\n",
        "\n",
        "for data_source_mapping in DATA_SOURCE_MAPPING.split(','):\n",
        "    directory, download_url_encoded = data_source_mapping.split(':')\n",
        "    download_url = unquote(download_url_encoded)\n",
        "    filename = urlparse(download_url).path\n",
        "    destination_path = os.path.join(KAGGLE_INPUT_PATH, directory)\n",
        "    try:\n",
        "        with urlopen(download_url) as fileres, NamedTemporaryFile() as tfile:\n",
        "            total_length = fileres.headers['content-length']\n",
        "            print(f'Downloading {directory}, {total_length} bytes compressed')\n",
        "            dl = 0\n",
        "            data = fileres.read(CHUNK_SIZE)\n",
        "            while len(data) > 0:\n",
        "                dl += len(data)\n",
        "                tfile.write(data)\n",
        "                done = int(50 * dl / int(total_length))\n",
        "                sys.stdout.write(f\"\\r[{'=' * done}{' ' * (50-done)}] {dl} bytes downloaded\")\n",
        "                sys.stdout.flush()\n",
        "                data = fileres.read(CHUNK_SIZE)\n",
        "            if filename.endswith('.zip'):\n",
        "              with ZipFile(tfile) as zfile:\n",
        "                zfile.extractall(destination_path)\n",
        "            else:\n",
        "              with tarfile.open(tfile.name) as tarfile:\n",
        "                tarfile.extractall(destination_path)\n",
        "            print(f'\\nDownloaded and uncompressed: {directory}')\n",
        "    except HTTPError as e:\n",
        "        print(f'Failed to load (likely expired) {download_url} to path {destination_path}')\n",
        "        continue\n",
        "    except OSError as e:\n",
        "        print(f'Failed to load {download_url} to path {destination_path}')\n",
        "        continue\n",
        "\n",
        "print('Data source import complete.')\n"
      ],
      "metadata": {
        "id": "fDyn-WHbJbHf",
        "outputId": "7cf133ea-ddee-4c3c-888d-6cba3f92caf9",
        "colab": {
          "base_uri": "https://localhost:8080/"
        }
      },
      "cell_type": "code",
      "outputs": [
        {
          "output_type": "stream",
          "name": "stdout",
          "text": [
            "Downloading diabetes-prediction-from-medicalrecords, 12170 bytes compressed\n",
            "\r[==================================================] 12170 bytes downloaded\n",
            "Downloaded and uncompressed: diabetes-prediction-from-medicalrecords\n",
            "Data source import complete.\n"
          ]
        }
      ],
      "execution_count": 1
    },
    {
      "cell_type": "code",
      "source": [
        "# This Python 3 environment comes with many helpful analytics libraries installed\n",
        "# It is defined by the kaggle/python Docker image: https://github.com/kaggle/docker-python\n",
        "# For example, here's several helpful packages to load\n",
        "\n",
        "import numpy as np # linear algebra\n",
        "import pandas as pd # data processing, CSV file I/O (e.g. pd.read_csv)\n",
        "\n",
        "# Input data files are available in the read-only \"../input/\" directory\n",
        "# For example, running this (by clicking run or pressing Shift+Enter) will list all files under the input directory\n",
        "\n",
        "import os\n",
        "for dirname, _, filenames in os.walk('/kaggle/input'):\n",
        "    for filename in filenames:\n",
        "        print(os.path.join(dirname, filename))\n",
        "\n",
        "# You can write up to 20GB to the current directory (/kaggle/working/) that gets preserved as output when you create a version using \"Save & Run All\"\n",
        "# You can also write temporary files to /kaggle/temp/, but they won't be saved outside of the current session"
      ],
      "metadata": {
        "_uuid": "8f2839f25d086af736a60e9eeb907d3b93b6e0e5",
        "_cell_guid": "b1076dfc-b9ad-4769-8c92-a6c4dae69d19",
        "execution": {
          "iopub.status.busy": "2024-01-29T19:32:19.746878Z",
          "iopub.execute_input": "2024-01-29T19:32:19.747373Z",
          "iopub.status.idle": "2024-01-29T19:32:20.23321Z",
          "shell.execute_reply.started": "2024-01-29T19:32:19.747325Z",
          "shell.execute_reply": "2024-01-29T19:32:20.232105Z"
        },
        "trusted": true,
        "id": "wf9lrhTQJbHh",
        "outputId": "08541e3c-46ca-4db6-e25d-7c9e8fa6a193",
        "colab": {
          "base_uri": "https://localhost:8080/"
        }
      },
      "execution_count": 2,
      "outputs": [
        {
          "output_type": "stream",
          "name": "stdout",
          "text": [
            "/kaggle/input/diabetes-prediction-from-medicalrecords/test.csv\n",
            "/kaggle/input/diabetes-prediction-from-medicalrecords/train.csv\n",
            "/kaggle/input/diabetes-prediction-from-medicalrecords/sample_submission.csv\n"
          ]
        }
      ]
    },
    {
      "cell_type": "markdown",
      "source": [
        "# **Importing the libraries**"
      ],
      "metadata": {
        "id": "foVHGImxJbHh"
      }
    },
    {
      "cell_type": "code",
      "source": [
        "import pandas as pd\n",
        "import numpy as np\n",
        "import matplotlib.pyplot as plt\n",
        "import seaborn as sns\n",
        "from sklearn.model_selection import train_test_split, GridSearchCV\n",
        "from sklearn.preprocessing import MinMaxScaler\n",
        "from sklearn.ensemble import RandomForestClassifier\n",
        "from sklearn.metrics import confusion_matrix, f1_score, roc_auc_score\n",
        "from imblearn.over_sampling import SMOTE\n",
        "from sklearn.neural_network import MLPClassifier\n",
        "from xgboost import XGBClassifier\n",
        "import tensorflow as tf\n",
        "from tensorflow import keras"
      ],
      "metadata": {
        "execution": {
          "iopub.status.busy": "2024-01-29T19:32:34.276174Z",
          "iopub.execute_input": "2024-01-29T19:32:34.276781Z",
          "iopub.status.idle": "2024-01-29T19:32:50.83441Z",
          "shell.execute_reply.started": "2024-01-29T19:32:34.276747Z",
          "shell.execute_reply": "2024-01-29T19:32:50.832664Z"
        },
        "trusted": true,
        "id": "yCY-qASBJbHj"
      },
      "execution_count": 3,
      "outputs": []
    },
    {
      "cell_type": "markdown",
      "source": [
        "# **Reading the data**"
      ],
      "metadata": {
        "id": "Fy7noOJUJbHj"
      }
    },
    {
      "cell_type": "code",
      "source": [
        "df = pd.read_csv('/kaggle/input/diabetes-prediction-from-medicalrecords/train.csv')"
      ],
      "metadata": {
        "execution": {
          "iopub.status.busy": "2024-01-29T19:32:54.85817Z",
          "iopub.execute_input": "2024-01-29T19:32:54.860002Z",
          "iopub.status.idle": "2024-01-29T19:32:54.880286Z",
          "shell.execute_reply.started": "2024-01-29T19:32:54.859943Z",
          "shell.execute_reply": "2024-01-29T19:32:54.878788Z"
        },
        "trusted": true,
        "id": "DNMu-XzGJbHj"
      },
      "execution_count": 4,
      "outputs": []
    },
    {
      "cell_type": "markdown",
      "source": [
        "# **Drop the 'Id' column**"
      ],
      "metadata": {
        "id": "ydRLJ5-1JbHk"
      }
    },
    {
      "cell_type": "code",
      "source": [
        "df.drop(columns='Id', inplace=True)"
      ],
      "metadata": {
        "execution": {
          "iopub.status.busy": "2024-01-29T19:33:32.6458Z",
          "iopub.execute_input": "2024-01-29T19:33:32.646333Z",
          "iopub.status.idle": "2024-01-29T19:33:32.670028Z",
          "shell.execute_reply.started": "2024-01-29T19:33:32.646296Z",
          "shell.execute_reply": "2024-01-29T19:33:32.667953Z"
        },
        "trusted": true,
        "id": "8122bIT6JbHk"
      },
      "execution_count": 5,
      "outputs": []
    },
    {
      "cell_type": "markdown",
      "source": [
        "# **Explore the dataset**"
      ],
      "metadata": {
        "id": "JasxTzZwJbHk"
      }
    },
    {
      "cell_type": "code",
      "source": [
        "print('DataFrame overall info:')\n",
        "display(df.info())\n",
        "\n",
        "print('\\nDataFrame null values:')\n",
        "display(df.isna().sum())\n",
        "\n",
        "print('\\nDataFrame duplicate values:')\n",
        "display(df.duplicated().sum())\n",
        "\n",
        "print('\\nDataFrame statistical info:')\n",
        "display(df.describe())"
      ],
      "metadata": {
        "execution": {
          "iopub.status.busy": "2024-01-29T19:34:18.137281Z",
          "iopub.execute_input": "2024-01-29T19:34:18.137737Z",
          "iopub.status.idle": "2024-01-29T19:34:18.229081Z",
          "shell.execute_reply.started": "2024-01-29T19:34:18.137705Z",
          "shell.execute_reply": "2024-01-29T19:34:18.227951Z"
        },
        "trusted": true,
        "id": "BTnQ8PXcJbHk",
        "outputId": "65ca6156-2194-413d-c13b-674490f6c312",
        "colab": {
          "base_uri": "https://localhost:8080/",
          "height": 907
        }
      },
      "execution_count": 6,
      "outputs": [
        {
          "output_type": "stream",
          "name": "stdout",
          "text": [
            "DataFrame overall info:\n",
            "<class 'pandas.core.frame.DataFrame'>\n",
            "RangeIndex: 550 entries, 0 to 549\n",
            "Data columns (total 9 columns):\n",
            " #   Column                    Non-Null Count  Dtype  \n",
            "---  ------                    --------------  -----  \n",
            " 0   Pregnancies               550 non-null    int64  \n",
            " 1   Glucose                   550 non-null    int64  \n",
            " 2   BloodPressure             550 non-null    int64  \n",
            " 3   SkinThickness             550 non-null    int64  \n",
            " 4   Insulin                   550 non-null    int64  \n",
            " 5   BMI                       550 non-null    float64\n",
            " 6   DiabetesPedigreeFunction  550 non-null    float64\n",
            " 7   Age                       550 non-null    int64  \n",
            " 8   Outcome                   550 non-null    int64  \n",
            "dtypes: float64(2), int64(7)\n",
            "memory usage: 38.8 KB\n"
          ]
        },
        {
          "output_type": "display_data",
          "data": {
            "text/plain": [
              "None"
            ]
          },
          "metadata": {}
        },
        {
          "output_type": "stream",
          "name": "stdout",
          "text": [
            "\n",
            "DataFrame null values:\n"
          ]
        },
        {
          "output_type": "display_data",
          "data": {
            "text/plain": [
              "Pregnancies                 0\n",
              "Glucose                     0\n",
              "BloodPressure               0\n",
              "SkinThickness               0\n",
              "Insulin                     0\n",
              "BMI                         0\n",
              "DiabetesPedigreeFunction    0\n",
              "Age                         0\n",
              "Outcome                     0\n",
              "dtype: int64"
            ]
          },
          "metadata": {}
        },
        {
          "output_type": "stream",
          "name": "stdout",
          "text": [
            "\n",
            "DataFrame duplicate values:\n"
          ]
        },
        {
          "output_type": "display_data",
          "data": {
            "text/plain": [
              "0"
            ]
          },
          "metadata": {}
        },
        {
          "output_type": "stream",
          "name": "stdout",
          "text": [
            "\n",
            "DataFrame statistical info:\n"
          ]
        },
        {
          "output_type": "display_data",
          "data": {
            "text/plain": [
              "       Pregnancies     Glucose  BloodPressure  SkinThickness     Insulin  \\\n",
              "count   550.000000  550.000000     550.000000     550.000000  550.000000   \n",
              "mean      4.034545  121.560000      69.381818      20.014545   80.141818   \n",
              "std       3.447325   30.551206      19.036147      15.898006  115.429640   \n",
              "min       0.000000    0.000000       0.000000       0.000000    0.000000   \n",
              "25%       1.000000  100.000000      62.000000       0.000000    0.000000   \n",
              "50%       3.000000  119.000000      72.000000      22.000000   22.500000   \n",
              "75%       6.000000  141.000000      80.000000      32.000000  128.750000   \n",
              "max      17.000000  197.000000     122.000000      63.000000  846.000000   \n",
              "\n",
              "              BMI  DiabetesPedigreeFunction         Age     Outcome  \n",
              "count  550.000000                550.000000  550.000000  550.000000  \n",
              "mean    31.902000                  0.466582   33.590909    0.354545  \n",
              "std      7.822178                  0.320054   12.054140    0.478811  \n",
              "min      0.000000                  0.078000   21.000000    0.000000  \n",
              "25%     27.200000                  0.239250   24.000000    0.000000  \n",
              "50%     32.000000                  0.375000   29.000000    0.000000  \n",
              "75%     36.500000                  0.628250   41.000000    1.000000  \n",
              "max     59.400000                  2.420000   81.000000    1.000000  "
            ],
            "text/html": [
              "\n",
              "  <div id=\"df-b6a579e7-92cb-41d8-8fc0-9bf609a01add\" class=\"colab-df-container\">\n",
              "    <div>\n",
              "<style scoped>\n",
              "    .dataframe tbody tr th:only-of-type {\n",
              "        vertical-align: middle;\n",
              "    }\n",
              "\n",
              "    .dataframe tbody tr th {\n",
              "        vertical-align: top;\n",
              "    }\n",
              "\n",
              "    .dataframe thead th {\n",
              "        text-align: right;\n",
              "    }\n",
              "</style>\n",
              "<table border=\"1\" class=\"dataframe\">\n",
              "  <thead>\n",
              "    <tr style=\"text-align: right;\">\n",
              "      <th></th>\n",
              "      <th>Pregnancies</th>\n",
              "      <th>Glucose</th>\n",
              "      <th>BloodPressure</th>\n",
              "      <th>SkinThickness</th>\n",
              "      <th>Insulin</th>\n",
              "      <th>BMI</th>\n",
              "      <th>DiabetesPedigreeFunction</th>\n",
              "      <th>Age</th>\n",
              "      <th>Outcome</th>\n",
              "    </tr>\n",
              "  </thead>\n",
              "  <tbody>\n",
              "    <tr>\n",
              "      <th>count</th>\n",
              "      <td>550.000000</td>\n",
              "      <td>550.000000</td>\n",
              "      <td>550.000000</td>\n",
              "      <td>550.000000</td>\n",
              "      <td>550.000000</td>\n",
              "      <td>550.000000</td>\n",
              "      <td>550.000000</td>\n",
              "      <td>550.000000</td>\n",
              "      <td>550.000000</td>\n",
              "    </tr>\n",
              "    <tr>\n",
              "      <th>mean</th>\n",
              "      <td>4.034545</td>\n",
              "      <td>121.560000</td>\n",
              "      <td>69.381818</td>\n",
              "      <td>20.014545</td>\n",
              "      <td>80.141818</td>\n",
              "      <td>31.902000</td>\n",
              "      <td>0.466582</td>\n",
              "      <td>33.590909</td>\n",
              "      <td>0.354545</td>\n",
              "    </tr>\n",
              "    <tr>\n",
              "      <th>std</th>\n",
              "      <td>3.447325</td>\n",
              "      <td>30.551206</td>\n",
              "      <td>19.036147</td>\n",
              "      <td>15.898006</td>\n",
              "      <td>115.429640</td>\n",
              "      <td>7.822178</td>\n",
              "      <td>0.320054</td>\n",
              "      <td>12.054140</td>\n",
              "      <td>0.478811</td>\n",
              "    </tr>\n",
              "    <tr>\n",
              "      <th>min</th>\n",
              "      <td>0.000000</td>\n",
              "      <td>0.000000</td>\n",
              "      <td>0.000000</td>\n",
              "      <td>0.000000</td>\n",
              "      <td>0.000000</td>\n",
              "      <td>0.000000</td>\n",
              "      <td>0.078000</td>\n",
              "      <td>21.000000</td>\n",
              "      <td>0.000000</td>\n",
              "    </tr>\n",
              "    <tr>\n",
              "      <th>25%</th>\n",
              "      <td>1.000000</td>\n",
              "      <td>100.000000</td>\n",
              "      <td>62.000000</td>\n",
              "      <td>0.000000</td>\n",
              "      <td>0.000000</td>\n",
              "      <td>27.200000</td>\n",
              "      <td>0.239250</td>\n",
              "      <td>24.000000</td>\n",
              "      <td>0.000000</td>\n",
              "    </tr>\n",
              "    <tr>\n",
              "      <th>50%</th>\n",
              "      <td>3.000000</td>\n",
              "      <td>119.000000</td>\n",
              "      <td>72.000000</td>\n",
              "      <td>22.000000</td>\n",
              "      <td>22.500000</td>\n",
              "      <td>32.000000</td>\n",
              "      <td>0.375000</td>\n",
              "      <td>29.000000</td>\n",
              "      <td>0.000000</td>\n",
              "    </tr>\n",
              "    <tr>\n",
              "      <th>75%</th>\n",
              "      <td>6.000000</td>\n",
              "      <td>141.000000</td>\n",
              "      <td>80.000000</td>\n",
              "      <td>32.000000</td>\n",
              "      <td>128.750000</td>\n",
              "      <td>36.500000</td>\n",
              "      <td>0.628250</td>\n",
              "      <td>41.000000</td>\n",
              "      <td>1.000000</td>\n",
              "    </tr>\n",
              "    <tr>\n",
              "      <th>max</th>\n",
              "      <td>17.000000</td>\n",
              "      <td>197.000000</td>\n",
              "      <td>122.000000</td>\n",
              "      <td>63.000000</td>\n",
              "      <td>846.000000</td>\n",
              "      <td>59.400000</td>\n",
              "      <td>2.420000</td>\n",
              "      <td>81.000000</td>\n",
              "      <td>1.000000</td>\n",
              "    </tr>\n",
              "  </tbody>\n",
              "</table>\n",
              "</div>\n",
              "    <div class=\"colab-df-buttons\">\n",
              "\n",
              "  <div class=\"colab-df-container\">\n",
              "    <button class=\"colab-df-convert\" onclick=\"convertToInteractive('df-b6a579e7-92cb-41d8-8fc0-9bf609a01add')\"\n",
              "            title=\"Convert this dataframe to an interactive table.\"\n",
              "            style=\"display:none;\">\n",
              "\n",
              "  <svg xmlns=\"http://www.w3.org/2000/svg\" height=\"24px\" viewBox=\"0 -960 960 960\">\n",
              "    <path d=\"M120-120v-720h720v720H120Zm60-500h600v-160H180v160Zm220 220h160v-160H400v160Zm0 220h160v-160H400v160ZM180-400h160v-160H180v160Zm440 0h160v-160H620v160ZM180-180h160v-160H180v160Zm440 0h160v-160H620v160Z\"/>\n",
              "  </svg>\n",
              "    </button>\n",
              "\n",
              "  <style>\n",
              "    .colab-df-container {\n",
              "      display:flex;\n",
              "      gap: 12px;\n",
              "    }\n",
              "\n",
              "    .colab-df-convert {\n",
              "      background-color: #E8F0FE;\n",
              "      border: none;\n",
              "      border-radius: 50%;\n",
              "      cursor: pointer;\n",
              "      display: none;\n",
              "      fill: #1967D2;\n",
              "      height: 32px;\n",
              "      padding: 0 0 0 0;\n",
              "      width: 32px;\n",
              "    }\n",
              "\n",
              "    .colab-df-convert:hover {\n",
              "      background-color: #E2EBFA;\n",
              "      box-shadow: 0px 1px 2px rgba(60, 64, 67, 0.3), 0px 1px 3px 1px rgba(60, 64, 67, 0.15);\n",
              "      fill: #174EA6;\n",
              "    }\n",
              "\n",
              "    .colab-df-buttons div {\n",
              "      margin-bottom: 4px;\n",
              "    }\n",
              "\n",
              "    [theme=dark] .colab-df-convert {\n",
              "      background-color: #3B4455;\n",
              "      fill: #D2E3FC;\n",
              "    }\n",
              "\n",
              "    [theme=dark] .colab-df-convert:hover {\n",
              "      background-color: #434B5C;\n",
              "      box-shadow: 0px 1px 3px 1px rgba(0, 0, 0, 0.15);\n",
              "      filter: drop-shadow(0px 1px 2px rgba(0, 0, 0, 0.3));\n",
              "      fill: #FFFFFF;\n",
              "    }\n",
              "  </style>\n",
              "\n",
              "    <script>\n",
              "      const buttonEl =\n",
              "        document.querySelector('#df-b6a579e7-92cb-41d8-8fc0-9bf609a01add button.colab-df-convert');\n",
              "      buttonEl.style.display =\n",
              "        google.colab.kernel.accessAllowed ? 'block' : 'none';\n",
              "\n",
              "      async function convertToInteractive(key) {\n",
              "        const element = document.querySelector('#df-b6a579e7-92cb-41d8-8fc0-9bf609a01add');\n",
              "        const dataTable =\n",
              "          await google.colab.kernel.invokeFunction('convertToInteractive',\n",
              "                                                    [key], {});\n",
              "        if (!dataTable) return;\n",
              "\n",
              "        const docLinkHtml = 'Like what you see? Visit the ' +\n",
              "          '<a target=\"_blank\" href=https://colab.research.google.com/notebooks/data_table.ipynb>data table notebook</a>'\n",
              "          + ' to learn more about interactive tables.';\n",
              "        element.innerHTML = '';\n",
              "        dataTable['output_type'] = 'display_data';\n",
              "        await google.colab.output.renderOutput(dataTable, element);\n",
              "        const docLink = document.createElement('div');\n",
              "        docLink.innerHTML = docLinkHtml;\n",
              "        element.appendChild(docLink);\n",
              "      }\n",
              "    </script>\n",
              "  </div>\n",
              "\n",
              "\n",
              "<div id=\"df-6a547b31-6ed3-4622-93a0-b0d78d2930f5\">\n",
              "  <button class=\"colab-df-quickchart\" onclick=\"quickchart('df-6a547b31-6ed3-4622-93a0-b0d78d2930f5')\"\n",
              "            title=\"Suggest charts\"\n",
              "            style=\"display:none;\">\n",
              "\n",
              "<svg xmlns=\"http://www.w3.org/2000/svg\" height=\"24px\"viewBox=\"0 0 24 24\"\n",
              "     width=\"24px\">\n",
              "    <g>\n",
              "        <path d=\"M19 3H5c-1.1 0-2 .9-2 2v14c0 1.1.9 2 2 2h14c1.1 0 2-.9 2-2V5c0-1.1-.9-2-2-2zM9 17H7v-7h2v7zm4 0h-2V7h2v10zm4 0h-2v-4h2v4z\"/>\n",
              "    </g>\n",
              "</svg>\n",
              "  </button>\n",
              "\n",
              "<style>\n",
              "  .colab-df-quickchart {\n",
              "      --bg-color: #E8F0FE;\n",
              "      --fill-color: #1967D2;\n",
              "      --hover-bg-color: #E2EBFA;\n",
              "      --hover-fill-color: #174EA6;\n",
              "      --disabled-fill-color: #AAA;\n",
              "      --disabled-bg-color: #DDD;\n",
              "  }\n",
              "\n",
              "  [theme=dark] .colab-df-quickchart {\n",
              "      --bg-color: #3B4455;\n",
              "      --fill-color: #D2E3FC;\n",
              "      --hover-bg-color: #434B5C;\n",
              "      --hover-fill-color: #FFFFFF;\n",
              "      --disabled-bg-color: #3B4455;\n",
              "      --disabled-fill-color: #666;\n",
              "  }\n",
              "\n",
              "  .colab-df-quickchart {\n",
              "    background-color: var(--bg-color);\n",
              "    border: none;\n",
              "    border-radius: 50%;\n",
              "    cursor: pointer;\n",
              "    display: none;\n",
              "    fill: var(--fill-color);\n",
              "    height: 32px;\n",
              "    padding: 0;\n",
              "    width: 32px;\n",
              "  }\n",
              "\n",
              "  .colab-df-quickchart:hover {\n",
              "    background-color: var(--hover-bg-color);\n",
              "    box-shadow: 0 1px 2px rgba(60, 64, 67, 0.3), 0 1px 3px 1px rgba(60, 64, 67, 0.15);\n",
              "    fill: var(--button-hover-fill-color);\n",
              "  }\n",
              "\n",
              "  .colab-df-quickchart-complete:disabled,\n",
              "  .colab-df-quickchart-complete:disabled:hover {\n",
              "    background-color: var(--disabled-bg-color);\n",
              "    fill: var(--disabled-fill-color);\n",
              "    box-shadow: none;\n",
              "  }\n",
              "\n",
              "  .colab-df-spinner {\n",
              "    border: 2px solid var(--fill-color);\n",
              "    border-color: transparent;\n",
              "    border-bottom-color: var(--fill-color);\n",
              "    animation:\n",
              "      spin 1s steps(1) infinite;\n",
              "  }\n",
              "\n",
              "  @keyframes spin {\n",
              "    0% {\n",
              "      border-color: transparent;\n",
              "      border-bottom-color: var(--fill-color);\n",
              "      border-left-color: var(--fill-color);\n",
              "    }\n",
              "    20% {\n",
              "      border-color: transparent;\n",
              "      border-left-color: var(--fill-color);\n",
              "      border-top-color: var(--fill-color);\n",
              "    }\n",
              "    30% {\n",
              "      border-color: transparent;\n",
              "      border-left-color: var(--fill-color);\n",
              "      border-top-color: var(--fill-color);\n",
              "      border-right-color: var(--fill-color);\n",
              "    }\n",
              "    40% {\n",
              "      border-color: transparent;\n",
              "      border-right-color: var(--fill-color);\n",
              "      border-top-color: var(--fill-color);\n",
              "    }\n",
              "    60% {\n",
              "      border-color: transparent;\n",
              "      border-right-color: var(--fill-color);\n",
              "    }\n",
              "    80% {\n",
              "      border-color: transparent;\n",
              "      border-right-color: var(--fill-color);\n",
              "      border-bottom-color: var(--fill-color);\n",
              "    }\n",
              "    90% {\n",
              "      border-color: transparent;\n",
              "      border-bottom-color: var(--fill-color);\n",
              "    }\n",
              "  }\n",
              "</style>\n",
              "\n",
              "  <script>\n",
              "    async function quickchart(key) {\n",
              "      const quickchartButtonEl =\n",
              "        document.querySelector('#' + key + ' button');\n",
              "      quickchartButtonEl.disabled = true;  // To prevent multiple clicks.\n",
              "      quickchartButtonEl.classList.add('colab-df-spinner');\n",
              "      try {\n",
              "        const charts = await google.colab.kernel.invokeFunction(\n",
              "            'suggestCharts', [key], {});\n",
              "      } catch (error) {\n",
              "        console.error('Error during call to suggestCharts:', error);\n",
              "      }\n",
              "      quickchartButtonEl.classList.remove('colab-df-spinner');\n",
              "      quickchartButtonEl.classList.add('colab-df-quickchart-complete');\n",
              "    }\n",
              "    (() => {\n",
              "      let quickchartButtonEl =\n",
              "        document.querySelector('#df-6a547b31-6ed3-4622-93a0-b0d78d2930f5 button');\n",
              "      quickchartButtonEl.style.display =\n",
              "        google.colab.kernel.accessAllowed ? 'block' : 'none';\n",
              "    })();\n",
              "  </script>\n",
              "</div>\n",
              "\n",
              "    </div>\n",
              "  </div>\n"
            ]
          },
          "metadata": {}
        }
      ]
    },
    {
      "cell_type": "markdown",
      "source": [
        "# **Plot some columns**"
      ],
      "metadata": {
        "id": "UDxh5hJDJbHk"
      }
    },
    {
      "cell_type": "code",
      "source": [
        "sns.histplot(df['Outcome'])\n",
        "plt.show()\n",
        "\n",
        "plt.figure(figsize=(10, 10))\n",
        "sns.heatmap(df.corr(), annot=True)\n",
        "plt.show()"
      ],
      "metadata": {
        "execution": {
          "iopub.status.busy": "2024-01-29T19:35:03.415089Z",
          "iopub.execute_input": "2024-01-29T19:35:03.415606Z",
          "iopub.status.idle": "2024-01-29T19:35:04.354913Z",
          "shell.execute_reply.started": "2024-01-29T19:35:03.41556Z",
          "shell.execute_reply": "2024-01-29T19:35:04.353938Z"
        },
        "trusted": true,
        "id": "q1MHbBwmJbHk",
        "outputId": "6d7fbaee-5523-4351-a513-c5bf01d098dc",
        "colab": {
          "base_uri": "https://localhost:8080/",
          "height": 1000
        }
      },
      "execution_count": 7,
      "outputs": [
        {
          "output_type": "display_data",
          "data": {
            "text/plain": [
              "<Figure size 640x480 with 1 Axes>"
            ],
            "image/png": "[encoded data removed]"
          },
          "metadata": {}
        },
        {
          "output_type": "display_data",
          "data": {
            "text/plain": [
              "<Figure size 1000x1000 with 2 Axes>"
            ],
            "image/png": "[encoded data removed]"
          },
          "metadata": {}
        }
      ]
    },
    {
      "cell_type": "markdown",
      "source": [
        "# **Preprocessing**"
      ],
      "metadata": {
        "id": "A9UTRBYlJbHk"
      }
    },
    {
      "cell_type": "code",
      "source": [
        "X = df.drop(columns='Outcome')\n",
        "y = df['Outcome']\n",
        "\n",
        "X_train, X_test, y_train, y_test = train_test_split(X, y, test_size=0.3, random_state=0)"
      ],
      "metadata": {
        "execution": {
          "iopub.status.busy": "2024-01-29T19:38:40.698811Z",
          "iopub.execute_input": "2024-01-29T19:38:40.699687Z",
          "iopub.status.idle": "2024-01-29T19:38:40.709164Z",
          "shell.execute_reply.started": "2024-01-29T19:38:40.699639Z",
          "shell.execute_reply": "2024-01-29T19:38:40.708284Z"
        },
        "trusted": true,
        "id": "X06pyt2WJbHk"
      },
      "execution_count": 8,
      "outputs": []
    },
    {
      "cell_type": "markdown",
      "source": [
        "# **Use SMOTE for handling class imbalance**"
      ],
      "metadata": {
        "id": "h3-U-mzJJbHl"
      }
    },
    {
      "cell_type": "code",
      "source": [
        "smote = SMOTE(sampling_strategy='auto', k_neighbors=3, random_state=0)\n",
        "X_train, y_train = smote.fit_resample(X_train, y_train)\n",
        "\n",
        "scaler = MinMaxScaler()\n",
        "X_scaled_train = scaler.fit_transform(X_train)\n",
        "X_scaled_test = scaler.transform(X_test)"
      ],
      "metadata": {
        "execution": {
          "iopub.status.busy": "2024-01-29T19:41:16.530249Z",
          "iopub.execute_input": "2024-01-29T19:41:16.531896Z",
          "iopub.status.idle": "2024-01-29T19:41:16.552801Z",
          "shell.execute_reply.started": "2024-01-29T19:41:16.531828Z",
          "shell.execute_reply": "2024-01-29T19:41:16.551286Z"
        },
        "trusted": true,
        "id": "Evosb7LPJbHl"
      },
      "execution_count": 9,
      "outputs": []
    },
    {
      "cell_type": "markdown",
      "source": [
        "# **Random Forest Classifier**"
      ],
      "metadata": {
        "id": "gyYA5izyJbHl"
      }
    },
    {
      "cell_type": "code",
      "source": [
        "model = RandomForestClassifier(n_estimators=100, max_depth=3, random_state=0, n_jobs=2)"
      ],
      "metadata": {
        "execution": {
          "iopub.status.busy": "2024-01-29T19:41:58.860985Z",
          "iopub.execute_input": "2024-01-29T19:41:58.8615Z",
          "iopub.status.idle": "2024-01-29T19:41:58.86872Z",
          "shell.execute_reply.started": "2024-01-29T19:41:58.861463Z",
          "shell.execute_reply": "2024-01-29T19:41:58.867231Z"
        },
        "trusted": true,
        "id": "sqIK1i4yJbHl"
      },
      "execution_count": 10,
      "outputs": []
    },
    {
      "cell_type": "markdown",
      "source": [
        "# **Hyperparameter tuning using GridSearchCV**"
      ],
      "metadata": {
        "id": "hsMEHUazJbHl"
      }
    },
    {
      "cell_type": "code",
      "source": [
        "param_grid = {\n",
        "    'n_estimators': [50, 100, 200],\n",
        "    'max_depth': [3, 5, 10],\n",
        "    'min_samples_split': [2, 5, 10],\n",
        "    'min_samples_leaf': [1, 2, 4],\n",
        "}\n",
        "\n",
        "grid_search = GridSearchCV(estimator=model, param_grid=param_grid, scoring='f1', cv=4, n_jobs=2)\n",
        "grid_search.fit(X_scaled_train, y_train)\n",
        "\n",
        "best_model = grid_search.best_estimator_"
      ],
      "metadata": {
        "execution": {
          "iopub.status.busy": "2024-01-29T19:42:36.089066Z",
          "iopub.execute_input": "2024-01-29T19:42:36.08952Z",
          "iopub.status.idle": "2024-01-29T19:43:52.089081Z",
          "shell.execute_reply.started": "2024-01-29T19:42:36.089486Z",
          "shell.execute_reply": "2024-01-29T19:43:52.087339Z"
        },
        "trusted": true,
        "id": "YoI2ge0JJbHl"
      },
      "execution_count": 11,
      "outputs": []
    },
    {
      "cell_type": "markdown",
      "source": [
        "# **Model evaluation on test set**"
      ],
      "metadata": {
        "id": "HpvY9p6gJbHm"
      }
    },
    {
      "cell_type": "code",
      "source": [
        "predictions = best_model.predict(X_scaled_test)\n",
        "cm = confusion_matrix(y_test, predictions)\n",
        "f1 = f1_score(y_test, predictions)\n",
        "roc_auc = roc_auc_score(y_test, predictions)\n",
        "\n",
        "print(f'Best parameters from GridSearchCV: {grid_search.best_params_}')\n",
        "print(f'Best F1 Score from GridSearchCV: {grid_search.best_score_}')\n",
        "print(f'Confusion matrix:\\n{cm}')\n",
        "print(f'F1 Score: {f1}')\n",
        "print(f'ROC AUC Score: {roc_auc}')"
      ],
      "metadata": {
        "execution": {
          "iopub.status.busy": "2024-01-29T19:44:50.235357Z",
          "iopub.execute_input": "2024-01-29T19:44:50.235839Z",
          "iopub.status.idle": "2024-01-29T19:44:50.30567Z",
          "shell.execute_reply.started": "2024-01-29T19:44:50.235802Z",
          "shell.execute_reply": "2024-01-29T19:44:50.304427Z"
        },
        "trusted": true,
        "id": "DVp4ZwHHJbHm",
        "outputId": "2d5caaeb-28be-4cae-d703-31165dd2d178",
        "colab": {
          "base_uri": "https://localhost:8080/"
        }
      },
      "execution_count": 12,
      "outputs": [
        {
          "output_type": "stream",
          "name": "stdout",
          "text": [
            "Best parameters from GridSearchCV: {'max_depth': 10, 'min_samples_leaf': 1, 'min_samples_split': 5, 'n_estimators': 100}\n",
            "Best F1 Score from GridSearchCV: 0.8413780960083107\n",
            "Confusion matrix:\n",
            "[[80 25]\n",
            " [16 44]]\n",
            "F1 Score: 0.6821705426356589\n",
            "ROC AUC Score: 0.7476190476190476\n"
          ]
        }
      ]
    },
    {
      "cell_type": "markdown",
      "source": [
        "# **Neural Network using TensorFlow/Keras**"
      ],
      "metadata": {
        "id": "40XjulthJbHm"
      }
    },
    {
      "cell_type": "code",
      "source": [
        "model = keras.Sequential([\n",
        "    keras.layers.Dense(64, input_shape=(8,), activation='relu'),\n",
        "    keras.layers.Dropout(0.5),\n",
        "    keras.layers.Dense(32, activation='relu'),\n",
        "    keras.layers.Dense(1, activation='sigmoid')\n",
        "])\n",
        "\n",
        "model.compile(optimizer=tf.keras.optimizers.RMSprop(learning_rate=0.001),\n",
        "              loss='binary_crossentropy',\n",
        "              metrics=[keras.metrics.Precision()])"
      ],
      "metadata": {
        "execution": {
          "iopub.status.busy": "2024-01-29T19:45:46.159979Z",
          "iopub.execute_input": "2024-01-29T19:45:46.160478Z",
          "iopub.status.idle": "2024-01-29T19:45:46.230987Z",
          "shell.execute_reply.started": "2024-01-29T19:45:46.160441Z",
          "shell.execute_reply": "2024-01-29T19:45:46.229718Z"
        },
        "trusted": true,
        "id": "csLAuaxGJbHm"
      },
      "execution_count": 13,
      "outputs": []
    },
    {
      "cell_type": "markdown",
      "source": [
        "# **Fitting the model and evaluating on the test set**"
      ],
      "metadata": {
        "id": "ff_6yZDlJbHm"
      }
    },
    {
      "cell_type": "code",
      "source": [
        "model.fit(X_scaled_train, y_train, epochs=100, batch_size=32, validation_split=0.5, verbose=0)\n",
        "test_loss, test_precision = model.evaluate(X_scaled_test, y_test)\n",
        "print(f'Test Precision: {test_precision}')"
      ],
      "metadata": {
        "execution": {
          "iopub.status.busy": "2024-01-29T19:46:49.327866Z",
          "iopub.execute_input": "2024-01-29T19:46:49.328539Z",
          "iopub.status.idle": "2024-01-29T19:47:00.785504Z",
          "shell.execute_reply.started": "2024-01-29T19:46:49.328464Z",
          "shell.execute_reply": "2024-01-29T19:47:00.784321Z"
        },
        "trusted": true,
        "id": "MlueD3WZJbHm",
        "outputId": "19009177-592f-4d6f-b8b2-9692afbccd3c",
        "colab": {
          "base_uri": "https://localhost:8080/"
        }
      },
      "execution_count": 14,
      "outputs": [
        {
          "output_type": "stream",
          "name": "stdout",
          "text": [
            "6/6 [==============================] - 0s 6ms/step - loss: 0.5109 - precision: 0.7234\n",
            "Test Precision: 0.7234042286872864\n"
          ]
        }
      ]
    },
    {
      "cell_type": "markdown",
      "source": [
        "# **XGBoost Classifier**"
      ],
      "metadata": {
        "id": "6zcJ5hOzJbHm"
      }
    },
    {
      "cell_type": "code",
      "source": [
        "xgb_model = XGBClassifier(n_estimators=3000, learning_rate=0.2, max_depth=5, random_state=0)\n",
        "xgb_model.fit(X_scaled_train, y_train)"
      ],
      "metadata": {
        "execution": {
          "iopub.status.busy": "2024-01-29T19:48:57.653473Z",
          "iopub.execute_input": "2024-01-29T19:48:57.653968Z",
          "iopub.status.idle": "2024-01-29T19:49:00.038439Z",
          "shell.execute_reply.started": "2024-01-29T19:48:57.653936Z",
          "shell.execute_reply": "2024-01-29T19:49:00.037444Z"
        },
        "trusted": true,
        "id": "26_jmB7jJbHm",
        "outputId": "ac1a04c3-2d76-492f-9ea4-979c12a6e1f0",
        "colab": {
          "base_uri": "https://localhost:8080/",
          "height": 248
        }
      },
      "execution_count": 15,
      "outputs": [
        {
          "output_type": "execute_result",
          "data": {
            "text/plain": [
              "XGBClassifier(base_score=None, booster=None, callbacks=None,\n",
              "              colsample_bylevel=None, colsample_bynode=None,\n",
              "              colsample_bytree=None, device=None, early_stopping_rounds=None,\n",
              "              enable_categorical=False, eval_metric=None, feature_types=None,\n",
              "              gamma=None, grow_policy=None, importance_type=None,\n",
              "              interaction_constraints=None, learning_rate=0.2, max_bin=None,\n",
              "              max_cat_threshold=None, max_cat_to_onehot=None,\n",
              "              max_delta_step=None, max_depth=5, max_leaves=None,\n",
              "              min_child_weight=None, missing=nan, monotone_constraints=None,\n",
              "              multi_strategy=None, n_estimators=3000, n_jobs=None,\n",
              "              num_parallel_tree=None, random_state=0, ...)"
            ],
            "text/html": [
              "<style>#sk-container-id-1 {color: black;background-color: white;}#sk-container-id-1 pre{padding: 0;}#sk-container-id-1 div.sk-toggleable {background-color: white;}#sk-container-id-1 label.sk-toggleable__label {cursor: pointer;display: block;width: 100%;margin-bottom: 0;padding: 0.3em;box-sizing: border-box;text-align: center;}#sk-container-id-1 label.sk-toggleable__label-arrow:before {content: \"▸\";float: left;margin-right: 0.25em;color: #696969;}#sk-container-id-1 label.sk-toggleable__label-arrow:hover:before {color: black;}#sk-container-id-1 div.sk-estimator:hover label.sk-toggleable__label-arrow:before {color: black;}#sk-container-id-1 div.sk-toggleable__content {max-height: 0;max-width: 0;overflow: hidden;text-align: left;background-color: #f0f8ff;}#sk-container-id-1 div.sk-toggleable__content pre {margin: 0.2em;color: black;border-radius: 0.25em;background-color: #f0f8ff;}#sk-container-id-1 input.sk-toggleable__control:checked~div.sk-toggleable__content {max-height: 200px;max-width: 100%;overflow: auto;}#sk-container-id-1 input.sk-toggleable__control:checked~label.sk-toggleable__label-arrow:before {content: \"▾\";}#sk-container-id-1 div.sk-estimator input.sk-toggleable__control:checked~label.sk-toggleable__label {background-color: #d4ebff;}#sk-container-id-1 div.sk-label input.sk-toggleable__control:checked~label.sk-toggleable__label {background-color: #d4ebff;}#sk-container-id-1 input.sk-hidden--visually {border: 0;clip: rect(1px 1px 1px 1px);clip: rect(1px, 1px, 1px, 1px);height: 1px;margin: -1px;overflow: hidden;padding: 0;position: absolute;width: 1px;}#sk-container-id-1 div.sk-estimator {font-family: monospace;background-color: #f0f8ff;border: 1px dotted black;border-radius: 0.25em;box-sizing: border-box;margin-bottom: 0.5em;}#sk-container-id-1 div.sk-estimator:hover {background-color: #d4ebff;}#sk-container-id-1 div.sk-parallel-item::after {content: \"\";width: 100%;border-bottom: 1px solid gray;flex-grow: 1;}#sk-container-id-1 div.sk-label:hover label.sk-toggleable__label {background-color: #d4ebff;}#sk-container-id-1 div.sk-serial::before {content: \"\";position: absolute;border-left: 1px solid gray;box-sizing: border-box;top: 0;bottom: 0;left: 50%;z-index: 0;}#sk-container-id-1 div.sk-serial {display: flex;flex-direction: column;align-items: center;background-color: white;padding-right: 0.2em;padding-left: 0.2em;position: relative;}#sk-container-id-1 div.sk-item {position: relative;z-index: 1;}#sk-container-id-1 div.sk-parallel {display: flex;align-items: stretch;justify-content: center;background-color: white;position: relative;}#sk-container-id-1 div.sk-item::before, #sk-container-id-1 div.sk-parallel-item::before {content: \"\";position: absolute;border-left: 1px solid gray;box-sizing: border-box;top: 0;bottom: 0;left: 50%;z-index: -1;}#sk-container-id-1 div.sk-parallel-item {display: flex;flex-direction: column;z-index: 1;position: relative;background-color: white;}#sk-container-id-1 div.sk-parallel-item:first-child::after {align-self: flex-end;width: 50%;}#sk-container-id-1 div.sk-parallel-item:last-child::after {align-self: flex-start;width: 50%;}#sk-container-id-1 div.sk-parallel-item:only-child::after {width: 0;}#sk-container-id-1 div.sk-dashed-wrapped {border: 1px dashed gray;margin: 0 0.4em 0.5em 0.4em;box-sizing: border-box;padding-bottom: 0.4em;background-color: white;}#sk-container-id-1 div.sk-label label {font-family: monospace;font-weight: bold;display: inline-block;line-height: 1.2em;}#sk-container-id-1 div.sk-label-container {text-align: center;}#sk-container-id-1 div.sk-container {/* jupyter's `normalize.less` sets `[hidden] { display: none; }` but bootstrap.min.css set `[hidden] { display: none !important; }` so we also need the `!important` here to be able to override the default hidden behavior on the sphinx rendered scikit-learn.org. See: https://github.com/scikit-learn/scikit-learn/issues/21755 */display: inline-block !important;position: relative;}#sk-container-id-1 div.sk-text-repr-fallback {display: none;}</style><div id=\"sk-container-id-1\" class=\"sk-top-container\"><div class=\"sk-text-repr-fallback\"><pre>XGBClassifier(base_score=None, booster=None, callbacks=None,\n",
              "              colsample_bylevel=None, colsample_bynode=None,\n",
              "              colsample_bytree=None, device=None, early_stopping_rounds=None,\n",
              "              enable_categorical=False, eval_metric=None, feature_types=None,\n",
              "              gamma=None, grow_policy=None, importance_type=None,\n",
              "              interaction_constraints=None, learning_rate=0.2, max_bin=None,\n",
              "              max_cat_threshold=None, max_cat_to_onehot=None,\n",
              "              max_delta_step=None, max_depth=5, max_leaves=None,\n",
              "              min_child_weight=None, missing=nan, monotone_constraints=None,\n",
              "              multi_strategy=None, n_estimators=3000, n_jobs=None,\n",
              "              num_parallel_tree=None, random_state=0, ...)</pre><b>In a Jupyter environment, please rerun this cell to show the HTML representation or trust the notebook. <br />On GitHub, the HTML representation is unable to render, please try loading this page with nbviewer.org.</b></div><div class=\"sk-container\" hidden><div class=\"sk-item\"><div class=\"sk-estimator sk-toggleable\"><input class=\"sk-toggleable__control sk-hidden--visually\" id=\"sk-estimator-id-1\" type=\"checkbox\" checked><label for=\"sk-estimator-id-1\" class=\"sk-toggleable__label sk-toggleable__label-arrow\">XGBClassifier</label><div class=\"sk-toggleable__content\"><pre>XGBClassifier(base_score=None, booster=None, callbacks=None,\n",
              "              colsample_bylevel=None, colsample_bynode=None,\n",
              "              colsample_bytree=None, device=None, early_stopping_rounds=None,\n",
              "              enable_categorical=False, eval_metric=None, feature_types=None,\n",
              "              gamma=None, grow_policy=None, importance_type=None,\n",
              "              interaction_constraints=None, learning_rate=0.2, max_bin=None,\n",
              "              max_cat_threshold=None, max_cat_to_onehot=None,\n",
              "              max_delta_step=None, max_depth=5, max_leaves=None,\n",
              "              min_child_weight=None, missing=nan, monotone_constraints=None,\n",
              "              multi_strategy=None, n_estimators=3000, n_jobs=None,\n",
              "              num_parallel_tree=None, random_state=0, ...)</pre></div></div></div></div></div>"
            ]
          },
          "metadata": {},
          "execution_count": 15
        }
      ]
    },
    {
      "cell_type": "markdown",
      "source": [
        "# **Model evaluation on test set**"
      ],
      "metadata": {
        "id": "KCLoN532JbHm"
      }
    },
    {
      "cell_type": "code",
      "source": [
        "xgb_predictions = xgb_model.predict(X_scaled_test)\n",
        "xgb_cm = confusion_matrix(y_test, xgb_predictions)\n",
        "xgb_f1 = f1_score(y_test, xgb_predictions)\n",
        "xgb_roc_auc = roc_auc_score(y_test, xgb_predictions)\n",
        "\n",
        "print(f'XGBoost Confusion matrix:\\n{xgb_cm}')\n",
        "print(f'XGBoost F1 Score: {xgb_f1}')\n",
        "print(f'XGBoost ROC AUC Score: {xgb_roc_auc}')"
      ],
      "metadata": {
        "execution": {
          "iopub.status.busy": "2024-01-29T19:49:36.862715Z",
          "iopub.execute_input": "2024-01-29T19:49:36.863193Z",
          "iopub.status.idle": "2024-01-29T19:49:36.891436Z",
          "shell.execute_reply.started": "2024-01-29T19:49:36.863158Z",
          "shell.execute_reply": "2024-01-29T19:49:36.89042Z"
        },
        "trusted": true,
        "id": "YC3O3Ya4JbHm",
        "outputId": "18bcf6d8-4eaf-4ccd-c1ec-fc2a0d703706",
        "colab": {
          "base_uri": "https://localhost:8080/"
        }
      },
      "execution_count": 16,
      "outputs": [
        {
          "output_type": "stream",
          "name": "stdout",
          "text": [
            "XGBoost Confusion matrix:\n",
            "[[77 28]\n",
            " [18 42]]\n",
            "XGBoost F1 Score: 0.6461538461538462\n",
            "XGBoost ROC AUC Score: 0.7166666666666668\n"
          ]
        }
      ]
    },
    {
      "cell_type": "markdown",
      "source": [
        "# **It can be seen that Random Forest works the best, hence using that, the code altogether is:-**"
      ],
      "metadata": {
        "id": "_O3HwdwhJbHm"
      }
    },
    {
      "cell_type": "code",
      "source": [
        "import pandas as pd\n",
        "from sklearn.ensemble import RandomForestClassifier\n",
        "from sklearn.model_selection import train_test_split, cross_val_score\n",
        "from sklearn.preprocessing import MinMaxScaler\n",
        "from sklearn.metrics import confusion_matrix, f1_score, roc_auc_score\n",
        "from imblearn.over_sampling import SMOTE\n",
        "import tensorflow as tf\n",
        "from tensorflow import keras\n",
        "\n",
        "# Loading data\n",
        "df_train = pd.read_csv('/kaggle/input/diabetes-prediction-from-medicalrecords/train.csv')\n",
        "\n",
        "# Droppingg the 'Id' column\n",
        "df_train = df_train.drop(columns='Id')\n",
        "\n",
        "# Separateing features and target variable\n",
        "X = df_train.drop(columns='Outcome')\n",
        "y = df_train['Outcome']\n",
        "\n",
        "# Applying SMOTE for handling class imbalance\n",
        "smote = SMOTE(sampling_strategy='auto', k_neighbors=3, random_state=0)\n",
        "X_resampled, y_resampled = smote.fit_resample(X, y)\n",
        "\n",
        "# Splitting the data into training and testing sets\n",
        "X_train, X_test, y_train, y_test = train_test_split(X_resampled, y_resampled, test_size=0.2, random_state=42)\n",
        "\n",
        "# Scaling the features\n",
        "scaler = MinMaxScaler()\n",
        "X_scaled_train = scaler.fit_transform(X_train)\n",
        "X_scaled_test = scaler.transform(X_test)\n",
        "\n",
        "# Training Random Forest\n",
        "rfc = RandomForestClassifier(max_features=2, n_estimators=100, max_depth=3, n_jobs=2)\n",
        "rfc.fit(X_scaled_train, y_train)\n",
        "\n",
        "# Evaluation\n",
        "crossval = cross_val_score(rfc, X_scaled_train, y_train, cv=4, n_jobs=2, scoring='f1')\n",
        "print(\"Cross-Validation F1 Scores:\", crossval)\n",
        "\n",
        "predictions = rfc.predict(X_scaled_test)\n",
        "cm = confusion_matrix(y_test, predictions)\n",
        "f1 = f1_score(y_test, predictions)\n",
        "roc_auc = roc_auc_score(y_test, predictions)\n",
        "\n",
        "print(f'Confusion matrix:\\n{cm}')\n",
        "print(f'F1 Score: {f1}')\n",
        "print(f'ROC AUC Score: {roc_auc}')\n",
        "\n",
        "# Neural Network Model\n",
        "tf.random.set_seed(42)\n",
        "model = keras.Sequential([\n",
        "    keras.layers.Dense(64, input_shape=(X_scaled_train.shape[1],), activation='relu'),\n",
        "    keras.layers.Dropout(0.5),\n",
        "    keras.layers.Dense(32, activation='relu'),\n",
        "    keras.layers.Dense(1, activation='sigmoid')\n",
        "])\n",
        "model.compile(optimizer=tf.keras.optimizers.RMSprop(learning_rate=0.001), loss='binary_crossentropy', metrics=['accuracy'])\n",
        "model.fit(X_scaled_train, y_train, epochs=100, batch_size=32, validation_split=0.5)\n",
        "\n",
        "# Evaluating Neural Network on Test Set\n",
        "test_loss, test_acc = model.evaluate(X_scaled_test, y_test)\n",
        "print(f'Neural Network Test Accuracy: {test_acc}')\n",
        "\n",
        "# Loading and preprocessing the test data\n",
        "df_test = pd.read_csv('/kaggle/input/diabetes-prediction-from-medicalrecords/test.csv')\n",
        "X_test_final = df_test.drop(columns=['Id'])\n",
        "X_scaled_test_final = scaler.transform(X_test_final)\n",
        "\n",
        "# Predictions using Random Forest\n",
        "binary_predictions_final = rfc.predict(X_scaled_test_final)\n",
        "\n",
        "# Saving to a CSV file\n",
        "submission = pd.read_csv('/kaggle/input/diabetes-prediction-from-medicalrecords/sample_submission.csv')\n",
        "submission['Outcome'] = binary_predictions_final\n",
        "submission.to_csv('submission_diabetes.csv', index=False)\n"
      ],
      "metadata": {
        "execution": {
          "iopub.status.busy": "2024-01-29T20:37:12.114523Z",
          "iopub.execute_input": "2024-01-29T20:37:12.116674Z",
          "iopub.status.idle": "2024-01-29T20:37:24.809922Z",
          "shell.execute_reply.started": "2024-01-29T20:37:12.116609Z",
          "shell.execute_reply": "2024-01-29T20:37:24.808179Z"
        },
        "trusted": true,
        "id": "sPlyEH1CJbHm",
        "outputId": "a20e7ba9-15ac-4b52-dcf8-93fcfb06d95d",
        "colab": {
          "base_uri": "https://localhost:8080/"
        }
      },
      "execution_count": 36,
      "outputs": [
        {
          "output_type": "stream",
          "name": "stdout",
          "text": [
            "Cross-Validation F1 Scores: [0.81290323 0.74172185 0.78666667 0.80794702]\n",
            "Confusion matrix:\n",
            "[[58 16]\n",
            " [12 56]]\n",
            "F1 Score: 0.7999999999999999\n",
            "ROC AUC Score: 0.8036565977742448\n",
            "Epoch 1/100\n",
            "9/9 [==============================] - 1s 31ms/step - loss: 0.6940 - accuracy: 0.4613 - val_loss: 0.6927 - val_accuracy: 0.4859\n",
            "Epoch 2/100\n",
            "9/9 [==============================] - 0s 8ms/step - loss: 0.6886 - accuracy: 0.5352 - val_loss: 0.6923 - val_accuracy: 0.4859\n",
            "Epoch 3/100\n",
            "9/9 [==============================] - 0s 8ms/step - loss: 0.6916 - accuracy: 0.5282 - val_loss: 0.6913 - val_accuracy: 0.4859\n",
            "Epoch 4/100\n",
            "9/9 [==============================] - 0s 9ms/step - loss: 0.6801 - accuracy: 0.5282 - val_loss: 0.6895 - val_accuracy: 0.4859\n",
            "Epoch 5/100\n",
            "9/9 [==============================] - 0s 10ms/step - loss: 0.6788 - accuracy: 0.5458 - val_loss: 0.6871 - val_accuracy: 0.4859\n",
            "Epoch 6/100\n",
            "9/9 [==============================] - 0s 9ms/step - loss: 0.6767 - accuracy: 0.5775 - val_loss: 0.6859 - val_accuracy: 0.4930\n",
            "Epoch 7/100\n",
            "9/9 [==============================] - 0s 8ms/step - loss: 0.6768 - accuracy: 0.5458 - val_loss: 0.6834 - val_accuracy: 0.5035\n",
            "Epoch 8/100\n",
            "9/9 [==============================] - 0s 8ms/step - loss: 0.6774 - accuracy: 0.5528 - val_loss: 0.6822 - val_accuracy: 0.5070\n",
            "Epoch 9/100\n",
            "9/9 [==============================] - 0s 9ms/step - loss: 0.6682 - accuracy: 0.5845 - val_loss: 0.6802 - val_accuracy: 0.5352\n",
            "Epoch 10/100\n",
            "9/9 [==============================] - 0s 9ms/step - loss: 0.6515 - accuracy: 0.6197 - val_loss: 0.6769 - val_accuracy: 0.5810\n",
            "Epoch 11/100\n",
            "9/9 [==============================] - 0s 9ms/step - loss: 0.6696 - accuracy: 0.5986 - val_loss: 0.6740 - val_accuracy: 0.6162\n",
            "Epoch 12/100\n",
            "9/9 [==============================] - 0s 9ms/step - loss: 0.6589 - accuracy: 0.6197 - val_loss: 0.6715 - val_accuracy: 0.6338\n",
            "Epoch 13/100\n",
            "9/9 [==============================] - 0s 9ms/step - loss: 0.6606 - accuracy: 0.6021 - val_loss: 0.6685 - val_accuracy: 0.6373\n",
            "Epoch 14/100\n",
            "9/9 [==============================] - 0s 7ms/step - loss: 0.6499 - accuracy: 0.6514 - val_loss: 0.6657 - val_accuracy: 0.6373\n",
            "Epoch 15/100\n",
            "9/9 [==============================] - 0s 8ms/step - loss: 0.6546 - accuracy: 0.6127 - val_loss: 0.6635 - val_accuracy: 0.6479\n",
            "Epoch 16/100\n",
            "9/9 [==============================] - 0s 8ms/step - loss: 0.6568 - accuracy: 0.6232 - val_loss: 0.6603 - val_accuracy: 0.6373\n",
            "Epoch 17/100\n",
            "9/9 [==============================] - 0s 8ms/step - loss: 0.6535 - accuracy: 0.6620 - val_loss: 0.6590 - val_accuracy: 0.6549\n",
            "Epoch 18/100\n",
            "9/9 [==============================] - 0s 8ms/step - loss: 0.6316 - accuracy: 0.6761 - val_loss: 0.6573 - val_accuracy: 0.6514\n",
            "Epoch 19/100\n",
            "9/9 [==============================] - 0s 7ms/step - loss: 0.6526 - accuracy: 0.6197 - val_loss: 0.6550 - val_accuracy: 0.6444\n",
            "Epoch 20/100\n",
            "9/9 [==============================] - 0s 8ms/step - loss: 0.6410 - accuracy: 0.6831 - val_loss: 0.6543 - val_accuracy: 0.6585\n",
            "Epoch 21/100\n",
            "9/9 [==============================] - 0s 7ms/step - loss: 0.6505 - accuracy: 0.6373 - val_loss: 0.6511 - val_accuracy: 0.6514\n",
            "Epoch 22/100\n",
            "9/9 [==============================] - 0s 9ms/step - loss: 0.6406 - accuracy: 0.6514 - val_loss: 0.6494 - val_accuracy: 0.6479\n",
            "Epoch 23/100\n",
            "9/9 [==============================] - 0s 8ms/step - loss: 0.6309 - accuracy: 0.6796 - val_loss: 0.6469 - val_accuracy: 0.6549\n",
            "Epoch 24/100\n",
            "9/9 [==============================] - 0s 8ms/step - loss: 0.6255 - accuracy: 0.6479 - val_loss: 0.6442 - val_accuracy: 0.6479\n",
            "Epoch 25/100\n",
            "9/9 [==============================] - 0s 8ms/step - loss: 0.6193 - accuracy: 0.7077 - val_loss: 0.6416 - val_accuracy: 0.6514\n",
            "Epoch 26/100\n",
            "9/9 [==============================] - 0s 9ms/step - loss: 0.6135 - accuracy: 0.6901 - val_loss: 0.6383 - val_accuracy: 0.6585\n",
            "Epoch 27/100\n",
            "9/9 [==============================] - 0s 8ms/step - loss: 0.6144 - accuracy: 0.6690 - val_loss: 0.6341 - val_accuracy: 0.6479\n",
            "Epoch 28/100\n",
            "9/9 [==============================] - 0s 8ms/step - loss: 0.6187 - accuracy: 0.6796 - val_loss: 0.6323 - val_accuracy: 0.6514\n",
            "Epoch 29/100\n",
            "9/9 [==============================] - 0s 9ms/step - loss: 0.6098 - accuracy: 0.6937 - val_loss: 0.6305 - val_accuracy: 0.6585\n",
            "Epoch 30/100\n",
            "9/9 [==============================] - 0s 7ms/step - loss: 0.6215 - accuracy: 0.6796 - val_loss: 0.6282 - val_accuracy: 0.6514\n",
            "Epoch 31/100\n",
            "9/9 [==============================] - 0s 9ms/step - loss: 0.6093 - accuracy: 0.6901 - val_loss: 0.6232 - val_accuracy: 0.6549\n",
            "Epoch 32/100\n",
            "9/9 [==============================] - 0s 9ms/step - loss: 0.6008 - accuracy: 0.7359 - val_loss: 0.6200 - val_accuracy: 0.6585\n",
            "Epoch 33/100\n",
            "9/9 [==============================] - 0s 8ms/step - loss: 0.6120 - accuracy: 0.7042 - val_loss: 0.6195 - val_accuracy: 0.6514\n",
            "Epoch 34/100\n",
            "9/9 [==============================] - 0s 8ms/step - loss: 0.5992 - accuracy: 0.7289 - val_loss: 0.6164 - val_accuracy: 0.6620\n",
            "Epoch 35/100\n",
            "9/9 [==============================] - 0s 8ms/step - loss: 0.5872 - accuracy: 0.7148 - val_loss: 0.6139 - val_accuracy: 0.6690\n",
            "Epoch 36/100\n",
            "9/9 [==============================] - 0s 8ms/step - loss: 0.5847 - accuracy: 0.7641 - val_loss: 0.6113 - val_accuracy: 0.6444\n",
            "Epoch 37/100\n",
            "9/9 [==============================] - 0s 8ms/step - loss: 0.6045 - accuracy: 0.6901 - val_loss: 0.6079 - val_accuracy: 0.6620\n",
            "Epoch 38/100\n",
            "9/9 [==============================] - 0s 8ms/step - loss: 0.5903 - accuracy: 0.7218 - val_loss: 0.6067 - val_accuracy: 0.6620\n",
            "Epoch 39/100\n",
            "9/9 [==============================] - 0s 10ms/step - loss: 0.5916 - accuracy: 0.7254 - val_loss: 0.6036 - val_accuracy: 0.6549\n",
            "Epoch 40/100\n",
            "9/9 [==============================] - 0s 7ms/step - loss: 0.5932 - accuracy: 0.6937 - val_loss: 0.6005 - val_accuracy: 0.6514\n",
            "Epoch 41/100\n",
            "9/9 [==============================] - 0s 8ms/step - loss: 0.5864 - accuracy: 0.7113 - val_loss: 0.6000 - val_accuracy: 0.6620\n",
            "Epoch 42/100\n",
            "9/9 [==============================] - 0s 7ms/step - loss: 0.5741 - accuracy: 0.7500 - val_loss: 0.5949 - val_accuracy: 0.6620\n",
            "Epoch 43/100\n",
            "9/9 [==============================] - 0s 8ms/step - loss: 0.5879 - accuracy: 0.7183 - val_loss: 0.5933 - val_accuracy: 0.6620\n",
            "Epoch 44/100\n",
            "9/9 [==============================] - 0s 8ms/step - loss: 0.5766 - accuracy: 0.7430 - val_loss: 0.5917 - val_accuracy: 0.6549\n",
            "Epoch 45/100\n",
            "9/9 [==============================] - 0s 11ms/step - loss: 0.5728 - accuracy: 0.7359 - val_loss: 0.5905 - val_accuracy: 0.6620\n",
            "Epoch 46/100\n",
            "9/9 [==============================] - 0s 18ms/step - loss: 0.5807 - accuracy: 0.7289 - val_loss: 0.5874 - val_accuracy: 0.6479\n",
            "Epoch 47/100\n",
            "9/9 [==============================] - 0s 17ms/step - loss: 0.5853 - accuracy: 0.7077 - val_loss: 0.5859 - val_accuracy: 0.6620\n",
            "Epoch 48/100\n",
            "9/9 [==============================] - 0s 18ms/step - loss: 0.5909 - accuracy: 0.7077 - val_loss: 0.5826 - val_accuracy: 0.6620\n",
            "Epoch 49/100\n",
            "9/9 [==============================] - 0s 17ms/step - loss: 0.5617 - accuracy: 0.7077 - val_loss: 0.5813 - val_accuracy: 0.6655\n",
            "Epoch 50/100\n",
            "9/9 [==============================] - 0s 12ms/step - loss: 0.5742 - accuracy: 0.7183 - val_loss: 0.5812 - val_accuracy: 0.6866\n",
            "Epoch 51/100\n",
            "9/9 [==============================] - 0s 10ms/step - loss: 0.5672 - accuracy: 0.7289 - val_loss: 0.5763 - val_accuracy: 0.6655\n",
            "Epoch 52/100\n",
            "9/9 [==============================] - 0s 11ms/step - loss: 0.5596 - accuracy: 0.7465 - val_loss: 0.5754 - val_accuracy: 0.6690\n",
            "Epoch 53/100\n",
            "9/9 [==============================] - 0s 11ms/step - loss: 0.5541 - accuracy: 0.7113 - val_loss: 0.5737 - val_accuracy: 0.6620\n",
            "Epoch 54/100\n",
            "9/9 [==============================] - 0s 16ms/step - loss: 0.5714 - accuracy: 0.6901 - val_loss: 0.5713 - val_accuracy: 0.6690\n",
            "Epoch 55/100\n",
            "9/9 [==============================] - 0s 16ms/step - loss: 0.5509 - accuracy: 0.7676 - val_loss: 0.5685 - val_accuracy: 0.6761\n",
            "Epoch 56/100\n",
            "9/9 [==============================] - 0s 12ms/step - loss: 0.5528 - accuracy: 0.7113 - val_loss: 0.5685 - val_accuracy: 0.6690\n",
            "Epoch 57/100\n",
            "9/9 [==============================] - 0s 18ms/step - loss: 0.5554 - accuracy: 0.7183 - val_loss: 0.5676 - val_accuracy: 0.6690\n",
            "Epoch 58/100\n",
            "9/9 [==============================] - 0s 18ms/step - loss: 0.5616 - accuracy: 0.7254 - val_loss: 0.5640 - val_accuracy: 0.6690\n",
            "Epoch 59/100\n",
            "9/9 [==============================] - 0s 17ms/step - loss: 0.5598 - accuracy: 0.7324 - val_loss: 0.5636 - val_accuracy: 0.6761\n",
            "Epoch 60/100\n",
            "9/9 [==============================] - 0s 17ms/step - loss: 0.5399 - accuracy: 0.7394 - val_loss: 0.5596 - val_accuracy: 0.6831\n",
            "Epoch 61/100\n",
            "9/9 [==============================] - 0s 17ms/step - loss: 0.5446 - accuracy: 0.7535 - val_loss: 0.5608 - val_accuracy: 0.6831\n",
            "Epoch 62/100\n",
            "9/9 [==============================] - 0s 11ms/step - loss: 0.5656 - accuracy: 0.7042 - val_loss: 0.5586 - val_accuracy: 0.6796\n",
            "Epoch 63/100\n",
            "9/9 [==============================] - 0s 8ms/step - loss: 0.5319 - accuracy: 0.7465 - val_loss: 0.5560 - val_accuracy: 0.6796\n",
            "Epoch 64/100\n",
            "9/9 [==============================] - 0s 7ms/step - loss: 0.5316 - accuracy: 0.7254 - val_loss: 0.5542 - val_accuracy: 0.6831\n",
            "Epoch 65/100\n",
            "9/9 [==============================] - 0s 9ms/step - loss: 0.5407 - accuracy: 0.7254 - val_loss: 0.5521 - val_accuracy: 0.6866\n",
            "Epoch 66/100\n",
            "9/9 [==============================] - 0s 7ms/step - loss: 0.5296 - accuracy: 0.7359 - val_loss: 0.5509 - val_accuracy: 0.6866\n",
            "Epoch 67/100\n",
            "9/9 [==============================] - 0s 9ms/step - loss: 0.5357 - accuracy: 0.7500 - val_loss: 0.5499 - val_accuracy: 0.6901\n",
            "Epoch 68/100\n",
            "9/9 [==============================] - 0s 8ms/step - loss: 0.5401 - accuracy: 0.7711 - val_loss: 0.5500 - val_accuracy: 0.6937\n",
            "Epoch 69/100\n",
            "9/9 [==============================] - 0s 8ms/step - loss: 0.5121 - accuracy: 0.7782 - val_loss: 0.5528 - val_accuracy: 0.6901\n",
            "Epoch 70/100\n",
            "9/9 [==============================] - 0s 10ms/step - loss: 0.5383 - accuracy: 0.7711 - val_loss: 0.5458 - val_accuracy: 0.6901\n",
            "Epoch 71/100\n",
            "9/9 [==============================] - 0s 7ms/step - loss: 0.5480 - accuracy: 0.7113 - val_loss: 0.5438 - val_accuracy: 0.7077\n",
            "Epoch 72/100\n",
            "9/9 [==============================] - 0s 8ms/step - loss: 0.5324 - accuracy: 0.7077 - val_loss: 0.5429 - val_accuracy: 0.6901\n",
            "Epoch 73/100\n",
            "9/9 [==============================] - 0s 8ms/step - loss: 0.5116 - accuracy: 0.7324 - val_loss: 0.5482 - val_accuracy: 0.6937\n",
            "Epoch 74/100\n",
            "9/9 [==============================] - 0s 9ms/step - loss: 0.5187 - accuracy: 0.7324 - val_loss: 0.5426 - val_accuracy: 0.7113\n",
            "Epoch 75/100\n",
            "9/9 [==============================] - 0s 8ms/step - loss: 0.5351 - accuracy: 0.7500 - val_loss: 0.5423 - val_accuracy: 0.7113\n",
            "Epoch 76/100\n",
            "9/9 [==============================] - 0s 9ms/step - loss: 0.5230 - accuracy: 0.7711 - val_loss: 0.5379 - val_accuracy: 0.6972\n",
            "Epoch 77/100\n",
            "9/9 [==============================] - 0s 9ms/step - loss: 0.5227 - accuracy: 0.7218 - val_loss: 0.5354 - val_accuracy: 0.7218\n",
            "Epoch 78/100\n",
            "9/9 [==============================] - 0s 9ms/step - loss: 0.5253 - accuracy: 0.7324 - val_loss: 0.5342 - val_accuracy: 0.7007\n",
            "Epoch 79/100\n",
            "9/9 [==============================] - 0s 9ms/step - loss: 0.5034 - accuracy: 0.7570 - val_loss: 0.5345 - val_accuracy: 0.7113\n",
            "Epoch 80/100\n",
            "9/9 [==============================] - 0s 10ms/step - loss: 0.5060 - accuracy: 0.7711 - val_loss: 0.5348 - val_accuracy: 0.7148\n",
            "Epoch 81/100\n",
            "9/9 [==============================] - 0s 8ms/step - loss: 0.5280 - accuracy: 0.7500 - val_loss: 0.5337 - val_accuracy: 0.7077\n",
            "Epoch 82/100\n",
            "9/9 [==============================] - 0s 9ms/step - loss: 0.5546 - accuracy: 0.7042 - val_loss: 0.5316 - val_accuracy: 0.7183\n",
            "Epoch 83/100\n",
            "9/9 [==============================] - 0s 8ms/step - loss: 0.5072 - accuracy: 0.7746 - val_loss: 0.5333 - val_accuracy: 0.7218\n",
            "Epoch 84/100\n",
            "9/9 [==============================] - 0s 9ms/step - loss: 0.5130 - accuracy: 0.7254 - val_loss: 0.5358 - val_accuracy: 0.7042\n",
            "Epoch 85/100\n",
            "9/9 [==============================] - 0s 8ms/step - loss: 0.5169 - accuracy: 0.7324 - val_loss: 0.5312 - val_accuracy: 0.7007\n",
            "Epoch 86/100\n",
            "9/9 [==============================] - 0s 8ms/step - loss: 0.5027 - accuracy: 0.7570 - val_loss: 0.5298 - val_accuracy: 0.7042\n",
            "Epoch 87/100\n",
            "9/9 [==============================] - 0s 8ms/step - loss: 0.4975 - accuracy: 0.7500 - val_loss: 0.5302 - val_accuracy: 0.7183\n",
            "Epoch 88/100\n",
            "9/9 [==============================] - 0s 9ms/step - loss: 0.4959 - accuracy: 0.7535 - val_loss: 0.5355 - val_accuracy: 0.7077\n",
            "Epoch 89/100\n",
            "9/9 [==============================] - 0s 8ms/step - loss: 0.4872 - accuracy: 0.7570 - val_loss: 0.5254 - val_accuracy: 0.7218\n",
            "Epoch 90/100\n",
            "9/9 [==============================] - 0s 8ms/step - loss: 0.5128 - accuracy: 0.7535 - val_loss: 0.5269 - val_accuracy: 0.7113\n",
            "Epoch 91/100\n",
            "9/9 [==============================] - 0s 8ms/step - loss: 0.4670 - accuracy: 0.7993 - val_loss: 0.5233 - val_accuracy: 0.7148\n",
            "Epoch 92/100\n",
            "9/9 [==============================] - 0s 8ms/step - loss: 0.5057 - accuracy: 0.7430 - val_loss: 0.5259 - val_accuracy: 0.7148\n",
            "Epoch 93/100\n",
            "9/9 [==============================] - 0s 10ms/step - loss: 0.4945 - accuracy: 0.7711 - val_loss: 0.5248 - val_accuracy: 0.7148\n",
            "Epoch 94/100\n",
            "9/9 [==============================] - 0s 8ms/step - loss: 0.5084 - accuracy: 0.7641 - val_loss: 0.5221 - val_accuracy: 0.7324\n",
            "Epoch 95/100\n",
            "9/9 [==============================] - 0s 8ms/step - loss: 0.5072 - accuracy: 0.7535 - val_loss: 0.5202 - val_accuracy: 0.7254\n",
            "Epoch 96/100\n",
            "9/9 [==============================] - 0s 9ms/step - loss: 0.5141 - accuracy: 0.7324 - val_loss: 0.5225 - val_accuracy: 0.7254\n",
            "Epoch 97/100\n",
            "9/9 [==============================] - 0s 8ms/step - loss: 0.4857 - accuracy: 0.7641 - val_loss: 0.5222 - val_accuracy: 0.7218\n",
            "Epoch 98/100\n",
            "9/9 [==============================] - 0s 8ms/step - loss: 0.4907 - accuracy: 0.7782 - val_loss: 0.5201 - val_accuracy: 0.7218\n",
            "Epoch 99/100\n",
            "9/9 [==============================] - 0s 8ms/step - loss: 0.4754 - accuracy: 0.7570 - val_loss: 0.5219 - val_accuracy: 0.7113\n",
            "Epoch 100/100\n",
            "9/9 [==============================] - 0s 9ms/step - loss: 0.4750 - accuracy: 0.7817 - val_loss: 0.5190 - val_accuracy: 0.7148\n",
            "5/5 [==============================] - 0s 4ms/step - loss: 0.4775 - accuracy: 0.7958\n",
            "Neural Network Test Accuracy: 0.7957746386528015\n"
          ]
        }
      ]
    },
    {
      "cell_type": "code",
      "source": [
        "submission.head(10)"
      ],
      "metadata": {
        "execution": {
          "iopub.status.busy": "2024-01-29T20:37:59.340645Z",
          "iopub.execute_input": "2024-01-29T20:37:59.341192Z",
          "iopub.status.idle": "2024-01-29T20:37:59.356008Z",
          "shell.execute_reply.started": "2024-01-29T20:37:59.341154Z",
          "shell.execute_reply": "2024-01-29T20:37:59.354552Z"
        },
        "trusted": true,
        "id": "P3oIC9hmJbHm",
        "outputId": "a1394546-5b78-4723-dca8-0849d6d45ec7",
        "colab": {
          "base_uri": "https://localhost:8080/",
          "height": 363
        }
      },
      "execution_count": 37,
      "outputs": [
        {
          "output_type": "execute_result",
          "data": {
            "text/plain": [
              "   Id  Outcome\n",
              "0   0        1\n",
              "1   2        0\n",
              "2   4        1\n",
              "3   6        0\n",
              "4  15        0\n",
              "5  18        0\n",
              "6  20        1\n",
              "7  22        1\n",
              "8  40        1\n",
              "9  41        1"
            ],
            "text/html": [
              "\n",
              "  <div id=\"df-43a9d557-16f4-4b85-a990-feb30cbbf935\" class=\"colab-df-container\">\n",
              "    <div>\n",
              "<style scoped>\n",
              "    .dataframe tbody tr th:only-of-type {\n",
              "        vertical-align: middle;\n",
              "    }\n",
              "\n",
              "    .dataframe tbody tr th {\n",
              "        vertical-align: top;\n",
              "    }\n",
              "\n",
              "    .dataframe thead th {\n",
              "        text-align: right;\n",
              "    }\n",
              "</style>\n",
              "<table border=\"1\" class=\"dataframe\">\n",
              "  <thead>\n",
              "    <tr style=\"text-align: right;\">\n",
              "      <th></th>\n",
              "      <th>Id</th>\n",
              "      <th>Outcome</th>\n",
              "    </tr>\n",
              "  </thead>\n",
              "  <tbody>\n",
              "    <tr>\n",
              "      <th>0</th>\n",
              "      <td>0</td>\n",
              "      <td>1</td>\n",
              "    </tr>\n",
              "    <tr>\n",
              "      <th>1</th>\n",
              "      <td>2</td>\n",
              "      <td>0</td>\n",
              "    </tr>\n",
              "    <tr>\n",
              "      <th>2</th>\n",
              "      <td>4</td>\n",
              "      <td>1</td>\n",
              "    </tr>\n",
              "    <tr>\n",
              "      <th>3</th>\n",
              "      <td>6</td>\n",
              "      <td>0</td>\n",
              "    </tr>\n",
              "    <tr>\n",
              "      <th>4</th>\n",
              "      <td>15</td>\n",
              "      <td>0</td>\n",
              "    </tr>\n",
              "    <tr>\n",
              "      <th>5</th>\n",
              "      <td>18</td>\n",
              "      <td>0</td>\n",
              "    </tr>\n",
              "    <tr>\n",
              "      <th>6</th>\n",
              "      <td>20</td>\n",
              "      <td>1</td>\n",
              "    </tr>\n",
              "    <tr>\n",
              "      <th>7</th>\n",
              "      <td>22</td>\n",
              "      <td>1</td>\n",
              "    </tr>\n",
              "    <tr>\n",
              "      <th>8</th>\n",
              "      <td>40</td>\n",
              "      <td>1</td>\n",
              "    </tr>\n",
              "    <tr>\n",
              "      <th>9</th>\n",
              "      <td>41</td>\n",
              "      <td>1</td>\n",
              "    </tr>\n",
              "  </tbody>\n",
              "</table>\n",
              "</div>\n",
              "    <div class=\"colab-df-buttons\">\n",
              "\n",
              "  <div class=\"colab-df-container\">\n",
              "    <button class=\"colab-df-convert\" onclick=\"convertToInteractive('df-43a9d557-16f4-4b85-a990-feb30cbbf935')\"\n",
              "            title=\"Convert this dataframe to an interactive table.\"\n",
              "            style=\"display:none;\">\n",
              "\n",
              "  <svg xmlns=\"http://www.w3.org/2000/svg\" height=\"24px\" viewBox=\"0 -960 960 960\">\n",
              "    <path d=\"M120-120v-720h720v720H120Zm60-500h600v-160H180v160Zm220 220h160v-160H400v160Zm0 220h160v-160H400v160ZM180-400h160v-160H180v160Zm440 0h160v-160H620v160ZM180-180h160v-160H180v160Zm440 0h160v-160H620v160Z\"/>\n",
              "  </svg>\n",
              "    </button>\n",
              "\n",
              "  <style>\n",
              "    .colab-df-container {\n",
              "      display:flex;\n",
              "      gap: 12px;\n",
              "    }\n",
              "\n",
              "    .colab-df-convert {\n",
              "      background-color: #E8F0FE;\n",
              "      border: none;\n",
              "      border-radius: 50%;\n",
              "      cursor: pointer;\n",
              "      display: none;\n",
              "      fill: #1967D2;\n",
              "      height: 32px;\n",
              "      padding: 0 0 0 0;\n",
              "      width: 32px;\n",
              "    }\n",
              "\n",
              "    .colab-df-convert:hover {\n",
              "      background-color: #E2EBFA;\n",
              "      box-shadow: 0px 1px 2px rgba(60, 64, 67, 0.3), 0px 1px 3px 1px rgba(60, 64, 67, 0.15);\n",
              "      fill: #174EA6;\n",
              "    }\n",
              "\n",
              "    .colab-df-buttons div {\n",
              "      margin-bottom: 4px;\n",
              "    }\n",
              "\n",
              "    [theme=dark] .colab-df-convert {\n",
              "      background-color: #3B4455;\n",
              "      fill: #D2E3FC;\n",
              "    }\n",
              "\n",
              "    [theme=dark] .colab-df-convert:hover {\n",
              "      background-color: #434B5C;\n",
              "      box-shadow: 0px 1px 3px 1px rgba(0, 0, 0, 0.15);\n",
              "      filter: drop-shadow(0px 1px 2px rgba(0, 0, 0, 0.3));\n",
              "      fill: #FFFFFF;\n",
              "    }\n",
              "  </style>\n",
              "\n",
              "    <script>\n",
              "      const buttonEl =\n",
              "        document.querySelector('#df-43a9d557-16f4-4b85-a990-feb30cbbf935 button.colab-df-convert');\n",
              "      buttonEl.style.display =\n",
              "        google.colab.kernel.accessAllowed ? 'block' : 'none';\n",
              "\n",
              "      async function convertToInteractive(key) {\n",
              "        const element = document.querySelector('#df-43a9d557-16f4-4b85-a990-feb30cbbf935');\n",
              "        const dataTable =\n",
              "          await google.colab.kernel.invokeFunction('convertToInteractive',\n",
              "                                                    [key], {});\n",
              "        if (!dataTable) return;\n",
              "\n",
              "        const docLinkHtml = 'Like what you see? Visit the ' +\n",
              "          '<a target=\"_blank\" href=https://colab.research.google.com/notebooks/data_table.ipynb>data table notebook</a>'\n",
              "          + ' to learn more about interactive tables.';\n",
              "        element.innerHTML = '';\n",
              "        dataTable['output_type'] = 'display_data';\n",
              "        await google.colab.output.renderOutput(dataTable, element);\n",
              "        const docLink = document.createElement('div');\n",
              "        docLink.innerHTML = docLinkHtml;\n",
              "        element.appendChild(docLink);\n",
              "      }\n",
              "    </script>\n",
              "  </div>\n",
              "\n",
              "\n",
              "<div id=\"df-9efc0e6b-f8e3-4f15-ba30-0c5e8c890aab\">\n",
              "  <button class=\"colab-df-quickchart\" onclick=\"quickchart('df-9efc0e6b-f8e3-4f15-ba30-0c5e8c890aab')\"\n",
              "            title=\"Suggest charts\"\n",
              "            style=\"display:none;\">\n",
              "\n",
              "<svg xmlns=\"http://www.w3.org/2000/svg\" height=\"24px\"viewBox=\"0 0 24 24\"\n",
              "     width=\"24px\">\n",
              "    <g>\n",
              "        <path d=\"M19 3H5c-1.1 0-2 .9-2 2v14c0 1.1.9 2 2 2h14c1.1 0 2-.9 2-2V5c0-1.1-.9-2-2-2zM9 17H7v-7h2v7zm4 0h-2V7h2v10zm4 0h-2v-4h2v4z\"/>\n",
              "    </g>\n",
              "</svg>\n",
              "  </button>\n",
              "\n",
              "<style>\n",
              "  .colab-df-quickchart {\n",
              "      --bg-color: #E8F0FE;\n",
              "      --fill-color: #1967D2;\n",
              "      --hover-bg-color: #E2EBFA;\n",
              "      --hover-fill-color: #174EA6;\n",
              "      --disabled-fill-color: #AAA;\n",
              "      --disabled-bg-color: #DDD;\n",
              "  }\n",
              "\n",
              "  [theme=dark] .colab-df-quickchart {\n",
              "      --bg-color: #3B4455;\n",
              "      --fill-color: #D2E3FC;\n",
              "      --hover-bg-color: #434B5C;\n",
              "      --hover-fill-color: #FFFFFF;\n",
              "      --disabled-bg-color: #3B4455;\n",
              "      --disabled-fill-color: #666;\n",
              "  }\n",
              "\n",
              "  .colab-df-quickchart {\n",
              "    background-color: var(--bg-color);\n",
              "    border: none;\n",
              "    border-radius: 50%;\n",
              "    cursor: pointer;\n",
              "    display: none;\n",
              "    fill: var(--fill-color);\n",
              "    height: 32px;\n",
              "    padding: 0;\n",
              "    width: 32px;\n",
              "  }\n",
              "\n",
              "  .colab-df-quickchart:hover {\n",
              "    background-color: var(--hover-bg-color);\n",
              "    box-shadow: 0 1px 2px rgba(60, 64, 67, 0.3), 0 1px 3px 1px rgba(60, 64, 67, 0.15);\n",
              "    fill: var(--button-hover-fill-color);\n",
              "  }\n",
              "\n",
              "  .colab-df-quickchart-complete:disabled,\n",
              "  .colab-df-quickchart-complete:disabled:hover {\n",
              "    background-color: var(--disabled-bg-color);\n",
              "    fill: var(--disabled-fill-color);\n",
              "    box-shadow: none;\n",
              "  }\n",
              "\n",
              "  .colab-df-spinner {\n",
              "    border: 2px solid var(--fill-color);\n",
              "    border-color: transparent;\n",
              "    border-bottom-color: var(--fill-color);\n",
              "    animation:\n",
              "      spin 1s steps(1) infinite;\n",
              "  }\n",
              "\n",
              "  @keyframes spin {\n",
              "    0% {\n",
              "      border-color: transparent;\n",
              "      border-bottom-color: var(--fill-color);\n",
              "      border-left-color: var(--fill-color);\n",
              "    }\n",
              "    20% {\n",
              "      border-color: transparent;\n",
              "      border-left-color: var(--fill-color);\n",
              "      border-top-color: var(--fill-color);\n",
              "    }\n",
              "    30% {\n",
              "      border-color: transparent;\n",
              "      border-left-color: var(--fill-color);\n",
              "      border-top-color: var(--fill-color);\n",
              "      border-right-color: var(--fill-color);\n",
              "    }\n",
              "    40% {\n",
              "      border-color: transparent;\n",
              "      border-right-color: var(--fill-color);\n",
              "      border-top-color: var(--fill-color);\n",
              "    }\n",
              "    60% {\n",
              "      border-color: transparent;\n",
              "      border-right-color: var(--fill-color);\n",
              "    }\n",
              "    80% {\n",
              "      border-color: transparent;\n",
              "      border-right-color: var(--fill-color);\n",
              "      border-bottom-color: var(--fill-color);\n",
              "    }\n",
              "    90% {\n",
              "      border-color: transparent;\n",
              "      border-bottom-color: var(--fill-color);\n",
              "    }\n",
              "  }\n",
              "</style>\n",
              "\n",
              "  <script>\n",
              "    async function quickchart(key) {\n",
              "      const quickchartButtonEl =\n",
              "        document.querySelector('#' + key + ' button');\n",
              "      quickchartButtonEl.disabled = true;  // To prevent multiple clicks.\n",
              "      quickchartButtonEl.classList.add('colab-df-spinner');\n",
              "      try {\n",
              "        const charts = await google.colab.kernel.invokeFunction(\n",
              "            'suggestCharts', [key], {});\n",
              "      } catch (error) {\n",
              "        console.error('Error during call to suggestCharts:', error);\n",
              "      }\n",
              "      quickchartButtonEl.classList.remove('colab-df-spinner');\n",
              "      quickchartButtonEl.classList.add('colab-df-quickchart-complete');\n",
              "    }\n",
              "    (() => {\n",
              "      let quickchartButtonEl =\n",
              "        document.querySelector('#df-9efc0e6b-f8e3-4f15-ba30-0c5e8c890aab button');\n",
              "      quickchartButtonEl.style.display =\n",
              "        google.colab.kernel.accessAllowed ? 'block' : 'none';\n",
              "    })();\n",
              "  </script>\n",
              "</div>\n",
              "\n",
              "    </div>\n",
              "  </div>\n"
            ]
          },
          "metadata": {},
          "execution_count": 37
        }
      ]
    }
  ]
}